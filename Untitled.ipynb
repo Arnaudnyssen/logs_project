{
 "cells": [
  {
   "cell_type": "code",
   "execution_count": 1,
   "id": "e8bf4e8a",
   "metadata": {},
   "outputs": [
    {
     "name": "stdout",
     "output_type": "stream",
     "text": [
      "Requirement already satisfied: psutil in /Users/arnaud/anaconda3/lib/python3.11/site-packages (5.9.0)\n",
      "Note: you may need to restart the kernel to use updated packages.\n"
     ]
    }
   ],
   "source": [
    "pip install psutil\n"
   ]
  },
  {
   "cell_type": "code",
   "execution_count": 2,
   "id": "f74f2d03",
   "metadata": {},
   "outputs": [
    {
     "ename": "NameError",
     "evalue": "name 'psutil' is not defined",
     "output_type": "error",
     "traceback": [
      "\u001b[0;31m---------------------------------------------------------------------------\u001b[0m",
      "\u001b[0;31mNameError\u001b[0m                                 Traceback (most recent call last)",
      "Cell \u001b[0;32mIn[2], line 1\u001b[0m\n\u001b[0;32m----> 1\u001b[0m a \u001b[38;5;241m=\u001b[39m psutil\u001b[38;5;241m.\u001b[39msensors_battery()\n\u001b[1;32m      2\u001b[0m \u001b[38;5;28mprint\u001b[39m(a)\n",
      "\u001b[0;31mNameError\u001b[0m: name 'psutil' is not defined"
     ]
    }
   ],
   "source": [
    "a = psutil.sensors_battery()\n",
    "print(a)"
   ]
  },
  {
   "cell_type": "code",
   "execution_count": 3,
   "id": "990e7f54",
   "metadata": {},
   "outputs": [
    {
     "name": "stdout",
     "output_type": "stream",
     "text": [
      "Name: psutil\n",
      "Version: 5.9.0\n",
      "Summary: Cross-platform lib for process and system monitoring in Python.\n",
      "Home-page: https://github.com/giampaolo/psutil\n",
      "Author: Giampaolo Rodola\n",
      "Author-email: g.rodola@gmail.com\n",
      "License: BSD\n",
      "Location: /Users/arnaud/anaconda3/lib/python3.11/site-packages\n",
      "Requires: \n",
      "Required-by: conda-build, distributed, ipykernel, spyder, xlwings\n",
      "Note: you may need to restart the kernel to use updated packages.\n"
     ]
    }
   ],
   "source": [
    "pip show psutil"
   ]
  },
  {
   "cell_type": "code",
   "execution_count": null,
   "id": "242f0c5b",
   "metadata": {},
   "outputs": [],
   "source": []
  }
 ],
 "metadata": {
  "kernelspec": {
   "display_name": "Python 3 (ipykernel)",
   "language": "python",
   "name": "python3"
  },
  "language_info": {
   "codemirror_mode": {
    "name": "ipython",
    "version": 3
   },
   "file_extension": ".py",
   "mimetype": "text/x-python",
   "name": "python",
   "nbconvert_exporter": "python",
   "pygments_lexer": "ipython3",
   "version": "3.11.5"
  }
 },
 "nbformat": 4,
 "nbformat_minor": 5
}
